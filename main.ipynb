{
 "cells": [
  {
   "cell_type": "code",
   "execution_count": 11,
   "metadata": {},
   "outputs": [],
   "source": [
    "from DataAcq.DataAcquisition import DataAcquisition\n",
    "from DataNorm.DataNormalization import DataNormalization\n",
    "from Plot.DataPlotter import DataPlotter\n",
    "from DataClean.DataCleaning import DataCleaning\n",
    "from model.model import CNNClassifier\n",
    "\n"
   ]
  },
  {
   "cell_type": "code",
   "execution_count": 7,
   "metadata": {},
   "outputs": [
    {
     "name": "stdout",
     "output_type": "stream",
     "text": [
      "[[-5.22150921e-01 -1.14030188e+00  2.00553010e+00 -4.55899791e-01]\n",
      " [-5.22150921e-01  9.37447279e-01 -6.22005358e-01 -1.24596075e+00]\n",
      " [-5.22150921e-01  1.59165600e+00 -1.42796510e+00 -1.70427228e+00]\n",
      " ...\n",
      " [-7.65628292e+00  1.80343881e-02  1.08496638e-02  6.51327647e-02]\n",
      " [-7.65628292e+00  1.87781824e-02  3.13858381e-03  1.65239590e-02]\n",
      " [-7.65628292e+00  2.41469961e-03  1.00603410e-02 -4.53238059e-03]]\n",
      "          Measured_RPM  Vibration_1  Vibration_2  Vibration_3\n",
      "24000000    2059.02550    -0.015743     0.040058     0.000284\n",
      "24000001    2059.02550     0.014228    -0.011530    -0.003921\n",
      "24000002    2059.02550     0.023664    -0.027354    -0.006360\n",
      "24000003    2059.02550    -0.039741     0.046192     0.006880\n",
      "24000004    2059.02550     0.005262    -0.007758     0.000144\n",
      "...                ...          ...          ...          ...\n",
      "26423290     643.38338     0.001339     0.000769     0.003015\n",
      "26423291     643.38338     0.001261     0.000952     0.003138\n",
      "26423292     643.38338     0.000966     0.000895     0.003057\n",
      "26423293     643.38338     0.000976     0.000744     0.002798\n",
      "26423294     643.38338     0.000740     0.000880     0.002686\n",
      "\n",
      "[2423295 rows x 4 columns]\n",
      "[8.55 8.55 8.55 ... 2.   2.   2.  ]\n"
     ]
    }
   ],
   "source": [
    "# Usage Example:\n",
    "try:\n",
    "    data = loaded_data.iloc[24000000:]\n",
    "    labels=data.iloc[:,0]\n",
    "    data=data.iloc[:,1:5]    \n",
    "    normalized_data = DataNormalization(method='MSD').fit_transform(data)\n",
    "except ValueError as ve:\n",
    "    print(ve)\n",
    "except Exception as e:\n",
    "    print(\"An error occurred:\", e)\n",
    "\n",
    "print(normalized_data)\n",
    "print (data)\n",
    "labels=labels.to_numpy()\n",
    "print(labels)\n"
   ]
  },
  {
   "cell_type": "code",
   "execution_count": 8,
   "metadata": {},
   "outputs": [
    {
     "data": {
      "text/plain": [
       "(2423295,)"
      ]
     },
     "execution_count": 8,
     "metadata": {},
     "output_type": "execute_result"
    }
   ],
   "source": [
    "labels.shape"
   ]
  },
  {
   "cell_type": "code",
   "execution_count": 4,
   "metadata": {},
   "outputs": [],
   "source": [
    "# Définir le chemin de stockage pour les données\n",
    "file_path = \"C:\\\\Users\\\\USER\\\\OneDrive\\\\Bureau\\\\github\\\\vibro\\\\0D.csv\"\n",
    "\n",
    "loaded_data = DataAcquisition.load_data(file_path)"
   ]
  },
  {
   "cell_type": "code",
   "execution_count": 7,
   "metadata": {},
   "outputs": [],
   "source": [
    "data2=data.iloc[40000:]"
   ]
  },
  {
   "cell_type": "code",
   "execution_count": null,
   "metadata": {},
   "outputs": [],
   "source": [
    "plotter = DataPlotter(data2, 100)\n",
    "plotter.plot_series(\"Measured_RPM\", percentage=100,title=\"Measured_RPM\")\n",
    "# plotter.plot_series(\"Vibration_2\", percentage=100)\n",
    "# plotter.plot_series(\"Vibration_3\", percentage=100)"
   ]
  },
  {
   "cell_type": "code",
   "execution_count": 9,
   "metadata": {},
   "outputs": [
    {
     "data": {
      "text/plain": [
       "(2423295, 4)"
      ]
     },
     "execution_count": 9,
     "metadata": {},
     "output_type": "execute_result"
    }
   ],
   "source": [
    "normalized_data.shape"
   ]
  },
  {
   "cell_type": "code",
   "execution_count": null,
   "metadata": {},
   "outputs": [],
   "source": [
    "plotter = DataPlotter(normalized_data, 100)\n",
    "plotter.plot_series(2, percentage=100,title=\"normalized_data\")\n",
    "plotter.plot_series(3, percentage=100)\n",
    "plotter.plot_series(4, percentage=100)"
   ]
  },
  {
   "cell_type": "code",
   "execution_count": 5,
   "metadata": {},
   "outputs": [],
   "source": [
    "# Exemple d'utilisation\n",
    "raw_data = normalized_data  # Votre jeu de données brut\n",
    "cleaner = DataCleaning(raw_data)\n",
    "cleaned_data = cleaner.run()"
   ]
  },
  {
   "cell_type": "code",
   "execution_count": null,
   "metadata": {},
   "outputs": [],
   "source": [
    "plotter = DataPlotter(cleaned_data, 1)\n",
    "plotter.plot_series(0, percentage=10,title=\"normalized_data\")\n",
    "# plotter.plot_series(3, percentage=100)\n",
    "# plotter.plot_series(4, percentage=100)"
   ]
  },
  {
   "cell_type": "code",
   "execution_count": 13,
   "metadata": {},
   "outputs": [
    {
     "name": "stdout",
     "output_type": "stream",
     "text": [
      "4\n"
     ]
    }
   ],
   "source": [
    "seq_length = 10000  # Longueur de la séquence\n",
    "features = data.shape[1]  # Nombre de caractéristiques\n",
    "print(features)\n",
    "def create_sequences(data, seq_length):\n",
    "    sequences = []\n",
    "    for i in range(len(data) - seq_length):\n",
    "        seq = data[i:i + seq_length]\n",
    "        sequences.append(seq)\n",
    "    return np.array(sequences)\n",
    "\n",
    "sequences = create_sequences(data, seq_length)"
   ]
  },
  {
   "cell_type": "code",
   "execution_count": 6,
   "metadata": {},
   "outputs": [],
   "source": [
    "data_tensor = torch.Tensor(sequences)\n",
    "labels_tensor = torch.Tensor(labels).long()\n",
    "\n",
    "dataset = TensorDataset(data_tensor, labels_tensor)\n",
    "dataloader = DataLoader(dataset, batch_size=1000, shuffle=True)"
   ]
  },
  {
   "cell_type": "code",
   "execution_count": 8,
   "metadata": {},
   "outputs": [],
   "source": [
    "hidden_size = 128  # Taille de l'état caché\n",
    "num_layers = 3     # Nombre de couches LSTM\n",
    "input_size= 4\n",
    "model = LSTMModel(input_size, hidden_size, num_layers,1)\n"
   ]
  },
  {
   "cell_type": "code",
   "execution_count": 9,
   "metadata": {},
   "outputs": [],
   "source": [
    "criterion = nn.CrossEntropyLoss()\n",
    "optimizer = optim.Adam(model.parameters(), lr=0.001)\n"
   ]
  },
  {
   "cell_type": "code",
   "execution_count": 13,
   "metadata": {},
   "outputs": [
    {
     "ename": "NameError",
     "evalue": "name 'train_test_split' is not defined",
     "output_type": "error",
     "traceback": [
      "\u001b[1;31m---------------------------------------------------------------------------\u001b[0m",
      "\u001b[1;31mNameError\u001b[0m                                 Traceback (most recent call last)",
      "\u001b[1;32mc:\\Users\\USER\\OneDrive\\Bureau\\github\\Edge AI For SHM\\main.ipynb Cell 15\u001b[0m line \u001b[0;36m1\n\u001b[1;32m----> <a href='vscode-notebook-cell:/c%3A/Users/USER/OneDrive/Bureau/github/Edge%20AI%20For%20SHM/main.ipynb#X20sZmlsZQ%3D%3D?line=0'>1</a>\u001b[0m X_train, X_test, y_train, y_test \u001b[39m=\u001b[39m train_test_split(data, labels, test_size\u001b[39m=\u001b[39m\u001b[39m0.2\u001b[39m, random_state\u001b[39m=\u001b[39m\u001b[39m42\u001b[39m)\n\u001b[0;32m      <a href='vscode-notebook-cell:/c%3A/Users/USER/OneDrive/Bureau/github/Edge%20AI%20For%20SHM/main.ipynb#X20sZmlsZQ%3D%3D?line=2'>3</a>\u001b[0m input_shape \u001b[39m=\u001b[39m X_train\u001b[39m.\u001b[39mshape[\u001b[39m1\u001b[39m:]\n\u001b[0;32m      <a href='vscode-notebook-cell:/c%3A/Users/USER/OneDrive/Bureau/github/Edge%20AI%20For%20SHM/main.ipynb#X20sZmlsZQ%3D%3D?line=3'>4</a>\u001b[0m num_classes \u001b[39m=\u001b[39m np\u001b[39m.\u001b[39munique(y)\u001b[39m.\u001b[39mshape[\u001b[39m0\u001b[39m]\n",
      "\u001b[1;31mNameError\u001b[0m: name 'train_test_split' is not defined"
     ]
    }
   ],
   "source": [
    "X_train, X_test, y_train, y_test = train_test_split(data, labels, test_size=0.2, random_state=42)\n",
    "\n",
    "input_shape = X_train.shape[1:]\n",
    "num_classes = np.unique(y).shape[0]\n",
    "\n",
    "classifier = CNNClassifier(input_shape=input_shape, num_classes=num_classes)\n",
    "classifier.train(X_train, y_train, X_test, y_test)\n",
    "score = classifier.evaluate(X_test, y_test)\n",
    "print(f'Test loss: {score[0]}')\n",
    "print(f'Test accuracy: {score[1]}')\n",
    "\n",
    "# Saving and loading the model\n",
    "model_filepath = 'best_model.h5'\n",
    "classifier.train(X_train, y_train, X_test, y_test, model_filepath=model_filepath)\n",
    "classifier.load(model_filepath)\n",
    "# Further evaluation or inference can be done here"
   ]
  },
  {
   "cell_type": "code",
   "execution_count": 1,
   "metadata": {},
   "outputs": [
    {
     "name": "stdout",
     "output_type": "stream",
     "text": [
      "Note: you may need to restart the kernel to use updated packages.\n"
     ]
    },
    {
     "name": "stderr",
     "output_type": "stream",
     "text": [
      "ERROR: Could not find a version that satisfies the requirement tensflow (from versions: none)\n",
      "ERROR: No matching distribution found for tensflow\n",
      "\n",
      "[notice] A new release of pip is available: 23.1.2 -> 23.3.1\n",
      "[notice] To update, run: python.exe -m pip install --upgrade pip\n"
     ]
    }
   ],
   "source": []
  }
 ],
 "metadata": {
  "kernelspec": {
   "display_name": "Python 3",
   "language": "python",
   "name": "python3"
  },
  "language_info": {
   "codemirror_mode": {
    "name": "ipython",
    "version": 3
   },
   "file_extension": ".py",
   "mimetype": "text/x-python",
   "name": "python",
   "nbconvert_exporter": "python",
   "pygments_lexer": "ipython3",
   "version": "3.11.4"
  }
 },
 "nbformat": 4,
 "nbformat_minor": 2
}
